{
 "cells": [
  {
   "cell_type": "markdown",
   "metadata": {
    "toc": true
   },
   "source": [
    "<h1>Table of Contents<span class=\"tocSkip\"></span></h1>\n",
    "<div class=\"toc\"><ul class=\"toc-item\"><li><span><a href=\"#Interdaily-stability-&amp;-intradaily-variability\" data-toc-modified-id=\"Interdaily-stability-&amp;-intradaily-variability-1\"><span class=\"toc-item-num\">1&nbsp;&nbsp;</span>Interdaily stability &amp; intradaily variability</a></span><ul class=\"toc-item\"><li><span><a href=\"#Changing-the-resampling-frequency\" data-toc-modified-id=\"Changing-the-resampling-frequency-1.1\"><span class=\"toc-item-num\">1.1&nbsp;&nbsp;</span>Changing the resampling frequency</a></span></li><li><span><a href=\"#Changing-the-threshold\" data-toc-modified-id=\"Changing-the-threshold-1.2\"><span class=\"toc-item-num\">1.2&nbsp;&nbsp;</span>Changing the threshold</a></span></li><li><span><a href=\"#Without-binarizing-the-data\" data-toc-modified-id=\"Without-binarizing-the-data-1.3\"><span class=\"toc-item-num\">1.3&nbsp;&nbsp;</span>Without binarizing the data</a></span></li></ul></li><li><span><a href=\"#Relative-amplitude\" data-toc-modified-id=\"Relative-amplitude-2\"><span class=\"toc-item-num\">2&nbsp;&nbsp;</span>Relative amplitude</a></span></li><li><span><a href=\"#Mean-IS-and-IV\" data-toc-modified-id=\"Mean-IS-and-IV-3\"><span class=\"toc-item-num\">3&nbsp;&nbsp;</span>Mean IS and IV</a></span></li><li><span><a href=\"#IS,-IV-and-RA-per-period\" data-toc-modified-id=\"IS,-IV-and-RA-per-period-4\"><span class=\"toc-item-num\">4&nbsp;&nbsp;</span>IS, IV and RA per period</a></span></li></ul></div>"
   ]
  },
  {
   "cell_type": "markdown",
   "metadata": {},
   "source": [
    "# Non-parametric variables with pyActigraphy"
   ]
  },
  {
   "cell_type": "markdown",
   "metadata": {},
   "source": [
    "Non-parametric variables such as:\n",
    "\n",
    "* Interdaily stability (IS)\n",
    "* Intradaily variability (IV)\n",
    "* Relative amplitude (RA)\n",
    "\n",
    "can easily be calculated with the pyActigraphy package."
   ]
  },
  {
   "cell_type": "markdown",
   "metadata": {},
   "source": [
    "First import the pyActigraphy package and read your favorite actigraphy data file:"
   ]
  },
  {
   "cell_type": "code",
   "execution_count": 1,
   "metadata": {
    "ExecuteTime": {
     "end_time": "2023-01-30T15:45:55.296909Z",
     "start_time": "2023-01-30T15:45:53.664088Z"
    }
   },
   "outputs": [],
   "source": [
    "import pyActigraphy"
   ]
  },
  {
   "cell_type": "code",
   "execution_count": 2,
   "metadata": {
    "ExecuteTime": {
     "end_time": "2023-01-30T15:45:55.300207Z",
     "start_time": "2023-01-30T15:45:55.298268Z"
    }
   },
   "outputs": [],
   "source": [
    "import os\n",
    "fpath = os.path.join(os.path.dirname(pyActigraphy.__file__),'tests/data/')"
   ]
  },
  {
   "cell_type": "code",
   "execution_count": 3,
   "metadata": {
    "ExecuteTime": {
     "end_time": "2023-01-30T15:45:55.317262Z",
     "start_time": "2023-01-30T15:45:55.301950Z"
    }
   },
   "outputs": [],
   "source": [
    "# Read test file\n",
    "raw = pyActigraphy.io.read_raw_awd(fpath+'example_01.AWD')"
   ]
  },
  {
   "cell_type": "markdown",
   "metadata": {},
   "source": [
    "## Interdaily stability & intradaily variability"
   ]
  },
  {
   "cell_type": "markdown",
   "metadata": {},
   "source": [
    "For both variables, the default parameters are:\n",
    "\n",
    "* resampling frequency = '1H'\n",
    "* binarize data = True\n",
    "* threshold = 4"
   ]
  },
  {
   "cell_type": "code",
   "execution_count": 4,
   "metadata": {
    "ExecuteTime": {
     "end_time": "2023-01-30T15:45:55.330230Z",
     "start_time": "2023-01-30T15:45:55.319102Z"
    }
   },
   "outputs": [
    {
     "data": {
      "text/plain": [
       "0.527656245354158"
      ]
     },
     "execution_count": 4,
     "metadata": {},
     "output_type": "execute_result"
    }
   ],
   "source": [
    "raw.IS()"
   ]
  },
  {
   "cell_type": "code",
   "execution_count": 5,
   "metadata": {
    "ExecuteTime": {
     "end_time": "2023-01-30T15:45:55.339861Z",
     "start_time": "2023-01-30T15:45:55.332372Z"
    }
   },
   "outputs": [
    {
     "data": {
      "text/plain": [
       "0.32913524895082263"
      ]
     },
     "execution_count": 5,
     "metadata": {},
     "output_type": "execute_result"
    }
   ],
   "source": [
    "raw.IV()"
   ]
  },
  {
   "cell_type": "markdown",
   "metadata": {},
   "source": [
    "However, it is possible to change these parameters."
   ]
  },
  {
   "cell_type": "markdown",
   "metadata": {},
   "source": [
    "### Changing the resampling frequency"
   ]
  },
  {
   "cell_type": "markdown",
   "metadata": {},
   "source": [
    "To calculate the IS&IV with a resampling frequency of 30 minutes, for example:"
   ]
  },
  {
   "cell_type": "code",
   "execution_count": 6,
   "metadata": {
    "ExecuteTime": {
     "end_time": "2023-01-30T15:45:55.348874Z",
     "start_time": "2023-01-30T15:45:55.340906Z"
    }
   },
   "outputs": [
    {
     "data": {
      "text/plain": [
       "0.49538299172546324"
      ]
     },
     "execution_count": 6,
     "metadata": {},
     "output_type": "execute_result"
    }
   ],
   "source": [
    "raw.IS(freq='30min')"
   ]
  },
  {
   "cell_type": "code",
   "execution_count": 7,
   "metadata": {
    "ExecuteTime": {
     "end_time": "2023-01-30T15:45:55.356604Z",
     "start_time": "2023-01-30T15:45:55.349971Z"
    }
   },
   "outputs": [
    {
     "data": {
      "text/plain": [
       "0.314973337080311"
      ]
     },
     "execution_count": 7,
     "metadata": {},
     "output_type": "execute_result"
    }
   ],
   "source": [
    "raw.IV(freq='30min')"
   ]
  },
  {
   "cell_type": "markdown",
   "metadata": {},
   "source": [
    "### Changing the threshold"
   ]
  },
  {
   "cell_type": "markdown",
   "metadata": {},
   "source": [
    "To calculate IS&IV with a different threshold on the activity count when binarizing the data:"
   ]
  },
  {
   "cell_type": "code",
   "execution_count": 8,
   "metadata": {
    "ExecuteTime": {
     "end_time": "2023-01-30T15:45:55.366903Z",
     "start_time": "2023-01-30T15:45:55.358343Z"
    }
   },
   "outputs": [
    {
     "data": {
      "text/plain": [
       "0.5418567121727559"
      ]
     },
     "execution_count": 8,
     "metadata": {},
     "output_type": "execute_result"
    }
   ],
   "source": [
    "raw.IS(threshold=10)"
   ]
  },
  {
   "cell_type": "code",
   "execution_count": 9,
   "metadata": {
    "ExecuteTime": {
     "end_time": "2023-01-30T15:45:55.375728Z",
     "start_time": "2023-01-30T15:45:55.369454Z"
    }
   },
   "outputs": [
    {
     "data": {
      "text/plain": [
       "0.33654319292100576"
      ]
     },
     "execution_count": 9,
     "metadata": {},
     "output_type": "execute_result"
    }
   ],
   "source": [
    "raw.IV(threshold=10)"
   ]
  },
  {
   "cell_type": "markdown",
   "metadata": {},
   "source": [
    "### Without binarizing the data"
   ]
  },
  {
   "cell_type": "markdown",
   "metadata": {},
   "source": [
    "It is also possible to calculate these variables without binarizing the data:"
   ]
  },
  {
   "cell_type": "code",
   "execution_count": 10,
   "metadata": {
    "ExecuteTime": {
     "end_time": "2023-01-30T15:45:55.384412Z",
     "start_time": "2023-01-30T15:45:55.377329Z"
    }
   },
   "outputs": [
    {
     "data": {
      "text/plain": [
       "0.46561431150973936"
      ]
     },
     "execution_count": 10,
     "metadata": {},
     "output_type": "execute_result"
    }
   ],
   "source": [
    "raw.IS(binarize=False)"
   ]
  },
  {
   "cell_type": "code",
   "execution_count": 11,
   "metadata": {
    "ExecuteTime": {
     "end_time": "2023-01-30T15:45:55.391180Z",
     "start_time": "2023-01-30T15:45:55.385466Z"
    }
   },
   "outputs": [
    {
     "data": {
      "text/plain": [
       "0.7095292983583361"
      ]
     },
     "execution_count": 11,
     "metadata": {},
     "output_type": "execute_result"
    }
   ],
   "source": [
    "raw.IV(binarize=False)"
   ]
  },
  {
   "cell_type": "markdown",
   "metadata": {},
   "source": [
    "## Relative amplitude"
   ]
  },
  {
   "cell_type": "markdown",
   "metadata": {},
   "source": [
    "Similarly, the default parameters for the relative amplitude (RA) are:\n",
    "\n",
    "* binarize data = True\n",
    "* threshold = 4\n",
    "\n",
    "It is not possible to specify a resampling frequency as the RA is independant of this parameter."
   ]
  },
  {
   "cell_type": "code",
   "execution_count": 12,
   "metadata": {
    "ExecuteTime": {
     "end_time": "2023-01-30T15:45:55.410045Z",
     "start_time": "2023-01-30T15:45:55.392267Z"
    }
   },
   "outputs": [
    {
     "data": {
      "text/plain": [
       "0.7576503909857768"
      ]
     },
     "execution_count": 12,
     "metadata": {},
     "output_type": "execute_result"
    }
   ],
   "source": [
    "raw.RA()"
   ]
  },
  {
   "cell_type": "code",
   "execution_count": 13,
   "metadata": {
    "ExecuteTime": {
     "end_time": "2023-01-30T15:45:55.425131Z",
     "start_time": "2023-01-30T15:45:55.411562Z"
    },
    "scrolled": true
   },
   "outputs": [
    {
     "data": {
      "text/plain": [
       "0.9168632026873167"
      ]
     },
     "execution_count": 13,
     "metadata": {},
     "output_type": "execute_result"
    }
   ],
   "source": [
    "raw.RA(binarize=False)"
   ]
  },
  {
   "cell_type": "markdown",
   "metadata": {},
   "source": [
    "## Mean IS and IV"
   ]
  },
  {
   "cell_type": "markdown",
   "metadata": {},
   "source": [
    "In _Nonparametric methods in actigraphy: An update_, Gonçalves et al. introduced two new variables, ISm and IVm, as the mean of the IS and IV (respectively) values calculated as different resampling frequencies."
   ]
  },
  {
   "cell_type": "markdown",
   "metadata": {},
   "source": [
    "These two additional variables are also available in the **_pyActigraphy_** package.\n",
    "For both variables, the default parameters are:\n",
    "\n",
    "* resampling frequencies = [1,2,3,4,5,6,8,9,10,12,15,16,18,20,24,30,32,36,40,45,48,60] (min)\n",
    "* binarize data = True\n",
    "* threshold = 4"
   ]
  },
  {
   "cell_type": "code",
   "execution_count": 14,
   "metadata": {
    "ExecuteTime": {
     "end_time": "2023-01-30T15:45:55.500727Z",
     "start_time": "2023-01-30T15:45:55.426742Z"
    }
   },
   "outputs": [
    {
     "data": {
      "text/plain": [
       "0.47064337220625074"
      ]
     },
     "execution_count": 14,
     "metadata": {},
     "output_type": "execute_result"
    }
   ],
   "source": [
    "raw.ISm()"
   ]
  },
  {
   "cell_type": "code",
   "execution_count": 15,
   "metadata": {
    "ExecuteTime": {
     "end_time": "2023-01-30T15:45:55.554141Z",
     "start_time": "2023-01-30T15:45:55.501878Z"
    }
   },
   "outputs": [
    {
     "data": {
      "text/plain": [
       "0.2706746158264432"
      ]
     },
     "execution_count": 15,
     "metadata": {},
     "output_type": "execute_result"
    }
   ],
   "source": [
    "raw.IVm()"
   ]
  },
  {
   "cell_type": "markdown",
   "metadata": {},
   "source": [
    "To change the resampling frequencies:"
   ]
  },
  {
   "cell_type": "code",
   "execution_count": 16,
   "metadata": {
    "ExecuteTime": {
     "end_time": "2023-01-30T15:45:55.557479Z",
     "start_time": "2023-01-30T15:45:55.555246Z"
    }
   },
   "outputs": [],
   "source": [
    "new_resampling_frequencies = ['5min','30min','1H']"
   ]
  },
  {
   "cell_type": "code",
   "execution_count": 17,
   "metadata": {
    "ExecuteTime": {
     "end_time": "2023-01-30T15:45:55.572834Z",
     "start_time": "2023-01-30T15:45:55.559072Z"
    }
   },
   "outputs": [
    {
     "data": {
      "text/plain": [
       "0.48841431777142963"
      ]
     },
     "execution_count": 17,
     "metadata": {},
     "output_type": "execute_result"
    }
   ],
   "source": [
    "raw.ISm(freqs=new_resampling_frequencies)"
   ]
  },
  {
   "cell_type": "markdown",
   "metadata": {},
   "source": [
    "## IS, IV and RA per period"
   ]
  },
  {
   "cell_type": "markdown",
   "metadata": {},
   "source": [
    "**_pyActigraphy_** introduces a new concept concerning the calculation of the non-parametric variables: it is now possible to calculate them per period."
   ]
  },
  {
   "cell_type": "markdown",
   "metadata": {},
   "source": [
    "The acquisition period is split in consecutive periods with the required length (if possible) and the non-parametric variable is then calculated for each period:"
   ]
  },
  {
   "cell_type": "code",
   "execution_count": 18,
   "metadata": {
    "ExecuteTime": {
     "end_time": "2023-01-30T15:45:55.581735Z",
     "start_time": "2023-01-30T15:45:55.574008Z"
    }
   },
   "outputs": [
    {
     "data": {
      "text/plain": [
       "[0.6876777827182482]"
      ]
     },
     "execution_count": 18,
     "metadata": {},
     "output_type": "execute_result"
    }
   ],
   "source": [
    "raw.ISp()"
   ]
  },
  {
   "cell_type": "markdown",
   "metadata": {},
   "source": [
    "By default, the period length is 7 days. But this parameter can easily be changed:"
   ]
  },
  {
   "cell_type": "code",
   "execution_count": 19,
   "metadata": {
    "ExecuteTime": {
     "end_time": "2023-01-30T15:45:55.592836Z",
     "start_time": "2023-01-30T15:45:55.582775Z"
    }
   },
   "outputs": [
    {
     "data": {
      "text/plain": [
       "[0.629359516562714, 0.8780603587977001, 0.43948376768341835]"
      ]
     },
     "execution_count": 19,
     "metadata": {},
     "output_type": "execute_result"
    }
   ],
   "source": [
    "# Period of 4 days for example\n",
    "raw.ISp(period='4D')"
   ]
  },
  {
   "cell_type": "markdown",
   "metadata": {},
   "source": [
    "In order to find out how many periods were found in the actigraphy record:"
   ]
  },
  {
   "cell_type": "code",
   "execution_count": 20,
   "metadata": {
    "ExecuteTime": {
     "end_time": "2023-01-30T15:45:55.605138Z",
     "start_time": "2023-01-30T15:45:55.594570Z"
    }
   },
   "outputs": [
    {
     "name": "stdout",
     "output_type": "stream",
     "text": [
      "Number of periods: 3\n",
      " Time unaccounted for: 0 days, 18h, 0m, 0s\n"
     ]
    },
    {
     "data": {
      "text/plain": [
       "[0.629359516562714, 0.8780603587977001, 0.43948376768341835]"
      ]
     },
     "execution_count": 20,
     "metadata": {},
     "output_type": "execute_result"
    }
   ],
   "source": [
    "raw.ISp(period='4D', verbose=True)"
   ]
  },
  {
   "cell_type": "markdown",
   "metadata": {},
   "source": [
    "Et voilà!"
   ]
  }
 ],
 "metadata": {
  "kernelspec": {
   "display_name": "pyActi37",
   "language": "python",
   "name": "pyacti37"
  },
  "language_info": {
   "codemirror_mode": {
    "name": "ipython",
    "version": 3
   },
   "file_extension": ".py",
   "mimetype": "text/x-python",
   "name": "python",
   "nbconvert_exporter": "python",
   "pygments_lexer": "ipython3",
   "version": "3.7.12"
  },
  "toc": {
   "base_numbering": 1,
   "nav_menu": {},
   "number_sections": true,
   "sideBar": true,
   "skip_h1_title": true,
   "title_cell": "Table of Contents",
   "title_sidebar": "Contents",
   "toc_cell": true,
   "toc_position": {},
   "toc_section_display": true,
   "toc_window_display": false
  }
 },
 "nbformat": 4,
 "nbformat_minor": 2
}
