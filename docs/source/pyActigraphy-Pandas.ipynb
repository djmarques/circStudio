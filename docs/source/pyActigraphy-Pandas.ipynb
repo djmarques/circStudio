{
 "cells": [
  {
   "cell_type": "markdown",
   "metadata": {},
   "source": [
    "# How to read data from DataFrames with pyActigraphy"
   ]
  },
  {
   "cell_type": "markdown",
   "metadata": {},
   "source": [
    "**Original Author:** Grégory Hammad\n",
    "\n",
    "**Note:** *This is a legacy tutorial originally developed for `pyActigraphy`. It remains useful for reference, but will be updated following the release of the first milestone version of the `circStudio` package.*\n",
    "\n",
    "**Observation:** *Once the first milestone version of the `circStudio` package is released, this will become the default method for opening files. Input files must be pre-formatted to ensure they can be properly cleaned and analyzed.*"
   ]
  },
  {
   "cell_type": "markdown",
   "metadata": {},
   "source": [
    "## Imported packages and input data"
   ]
  },
  {
   "cell_type": "markdown",
   "metadata": {},
   "source": [
    "The usual suspects:"
   ]
  },
  {
   "cell_type": "code",
   "execution_count": 2,
   "metadata": {
    "ExecuteTime": {
     "end_time": "2025-05-26T14:43:26.509090Z",
     "start_time": "2025-05-26T14:43:26.447026Z"
    }
   },
   "outputs": [],
   "source": [
    "import numpy as np"
   ]
  },
  {
   "cell_type": "code",
   "execution_count": 3,
   "metadata": {
    "ExecuteTime": {
     "end_time": "2023-01-30T15:46:21.029765Z",
     "start_time": "2023-01-30T15:46:20.798230Z"
    }
   },
   "outputs": [],
   "source": [
    "import pandas as pd"
   ]
  },
  {
   "cell_type": "code",
   "execution_count": 4,
   "metadata": {
    "ExecuteTime": {
     "end_time": "2023-01-30T15:46:22.362016Z",
     "start_time": "2023-01-30T15:46:21.031406Z"
    }
   },
   "outputs": [],
   "source": [
    "import circStudio"
   ]
  },
  {
   "cell_type": "markdown",
   "metadata": {},
   "source": [
    "In this example, let's generate some input data:"
   ]
  },
  {
   "cell_type": "markdown",
   "metadata": {},
   "source": [
    "NB: if you already have your data under a pandas.DataFrame format, jump directly to the next section."
   ]
  },
  {
   "cell_type": "code",
   "execution_count": 5,
   "metadata": {
    "ExecuteTime": {
     "end_time": "2023-01-30T15:46:22.365103Z",
     "start_time": "2023-01-30T15:46:22.363452Z"
    }
   },
   "outputs": [],
   "source": [
    "N = 1440*7 # 7 days of acquisition at a frequency of 60s."
   ]
  },
  {
   "cell_type": "code",
   "execution_count": 6,
   "metadata": {
    "ExecuteTime": {
     "end_time": "2023-01-30T15:46:22.370183Z",
     "start_time": "2023-01-30T15:46:22.366077Z"
    }
   },
   "outputs": [],
   "source": [
    "activity = np.random.normal(10,1,N)\n",
    "light = np.random.normal(100,10,N)"
   ]
  },
  {
   "cell_type": "code",
   "execution_count": 7,
   "metadata": {
    "ExecuteTime": {
     "end_time": "2023-01-30T15:46:22.373357Z",
     "start_time": "2023-01-30T15:46:22.371173Z"
    }
   },
   "outputs": [],
   "source": [
    "non_wear = np.empty(N)"
   ]
  },
  {
   "cell_type": "code",
   "execution_count": 8,
   "metadata": {
    "ExecuteTime": {
     "end_time": "2023-01-30T15:46:22.376814Z",
     "start_time": "2023-01-30T15:46:22.374774Z"
    }
   },
   "outputs": [],
   "source": [
    "# Set up a segment of  spurious inactivity\n",
    "activity[2060:2160] = 0.0\n",
    "non_wear[2060:2160] = 1.0"
   ]
  },
  {
   "cell_type": "code",
   "execution_count": 9,
   "metadata": {
    "ExecuteTime": {
     "end_time": "2023-01-30T15:46:22.382434Z",
     "start_time": "2023-01-30T15:46:22.380545Z"
    }
   },
   "outputs": [],
   "source": [
    "d = {'Activity': activity, 'Light': light, 'Non-wear': non_wear}"
   ]
  },
  {
   "cell_type": "code",
   "execution_count": 10,
   "metadata": {
    "ExecuteTime": {
     "end_time": "2023-01-30T15:46:22.387956Z",
     "start_time": "2023-01-30T15:46:22.384391Z"
    }
   },
   "outputs": [],
   "source": [
    "index = pd.date_range(start='01-01-2020',freq='60s',periods=N)"
   ]
  },
  {
   "cell_type": "code",
   "execution_count": 11,
   "metadata": {
    "ExecuteTime": {
     "end_time": "2023-01-30T15:46:22.393274Z",
     "start_time": "2023-01-30T15:46:22.389782Z"
    }
   },
   "outputs": [],
   "source": [
    "data = pd.DataFrame(index=index,data=d)"
   ]
  },
  {
   "cell_type": "code",
   "execution_count": 12,
   "metadata": {
    "ExecuteTime": {
     "end_time": "2023-01-30T15:46:22.406545Z",
     "start_time": "2023-01-30T15:46:22.394383Z"
    }
   },
   "outputs": [
    {
     "data": {
      "text/html": [
       "<div>\n",
       "<style scoped>\n",
       "    .dataframe tbody tr th:only-of-type {\n",
       "        vertical-align: middle;\n",
       "    }\n",
       "\n",
       "    .dataframe tbody tr th {\n",
       "        vertical-align: top;\n",
       "    }\n",
       "\n",
       "    .dataframe thead th {\n",
       "        text-align: right;\n",
       "    }\n",
       "</style>\n",
       "<table border=\"1\" class=\"dataframe\">\n",
       "  <thead>\n",
       "    <tr style=\"text-align: right;\">\n",
       "      <th></th>\n",
       "      <th>Activity</th>\n",
       "      <th>Light</th>\n",
       "      <th>Non-wear</th>\n",
       "    </tr>\n",
       "  </thead>\n",
       "  <tbody>\n",
       "    <tr>\n",
       "      <th>2020-01-01 00:00:00</th>\n",
       "      <td>12.348719</td>\n",
       "      <td>111.992564</td>\n",
       "      <td>1.052974e-311</td>\n",
       "    </tr>\n",
       "    <tr>\n",
       "      <th>2020-01-01 00:01:00</th>\n",
       "      <td>9.509186</td>\n",
       "      <td>106.229410</td>\n",
       "      <td>1.052512e-311</td>\n",
       "    </tr>\n",
       "    <tr>\n",
       "      <th>2020-01-01 00:02:00</th>\n",
       "      <td>11.565412</td>\n",
       "      <td>106.166361</td>\n",
       "      <td>0.000000e+00</td>\n",
       "    </tr>\n",
       "    <tr>\n",
       "      <th>2020-01-01 00:03:00</th>\n",
       "      <td>10.747845</td>\n",
       "      <td>95.196543</td>\n",
       "      <td>0.000000e+00</td>\n",
       "    </tr>\n",
       "    <tr>\n",
       "      <th>2020-01-01 00:04:00</th>\n",
       "      <td>10.947222</td>\n",
       "      <td>107.643642</td>\n",
       "      <td>0.000000e+00</td>\n",
       "    </tr>\n",
       "    <tr>\n",
       "      <th>...</th>\n",
       "      <td>...</td>\n",
       "      <td>...</td>\n",
       "      <td>...</td>\n",
       "    </tr>\n",
       "    <tr>\n",
       "      <th>2020-01-07 23:55:00</th>\n",
       "      <td>10.641293</td>\n",
       "      <td>119.427444</td>\n",
       "      <td>0.000000e+00</td>\n",
       "    </tr>\n",
       "    <tr>\n",
       "      <th>2020-01-07 23:56:00</th>\n",
       "      <td>9.070925</td>\n",
       "      <td>95.883033</td>\n",
       "      <td>0.000000e+00</td>\n",
       "    </tr>\n",
       "    <tr>\n",
       "      <th>2020-01-07 23:57:00</th>\n",
       "      <td>10.157441</td>\n",
       "      <td>100.787815</td>\n",
       "      <td>0.000000e+00</td>\n",
       "    </tr>\n",
       "    <tr>\n",
       "      <th>2020-01-07 23:58:00</th>\n",
       "      <td>9.503215</td>\n",
       "      <td>114.941433</td>\n",
       "      <td>0.000000e+00</td>\n",
       "    </tr>\n",
       "    <tr>\n",
       "      <th>2020-01-07 23:59:00</th>\n",
       "      <td>9.744828</td>\n",
       "      <td>109.525061</td>\n",
       "      <td>0.000000e+00</td>\n",
       "    </tr>\n",
       "  </tbody>\n",
       "</table>\n",
       "<p>10080 rows × 3 columns</p>\n",
       "</div>"
      ],
      "text/plain": [
       "                      Activity       Light       Non-wear\n",
       "2020-01-01 00:00:00  12.348719  111.992564  1.052974e-311\n",
       "2020-01-01 00:01:00   9.509186  106.229410  1.052512e-311\n",
       "2020-01-01 00:02:00  11.565412  106.166361   0.000000e+00\n",
       "2020-01-01 00:03:00  10.747845   95.196543   0.000000e+00\n",
       "2020-01-01 00:04:00  10.947222  107.643642   0.000000e+00\n",
       "...                        ...         ...            ...\n",
       "2020-01-07 23:55:00  10.641293  119.427444   0.000000e+00\n",
       "2020-01-07 23:56:00   9.070925   95.883033   0.000000e+00\n",
       "2020-01-07 23:57:00  10.157441  100.787815   0.000000e+00\n",
       "2020-01-07 23:58:00   9.503215  114.941433   0.000000e+00\n",
       "2020-01-07 23:59:00   9.744828  109.525061   0.000000e+00\n",
       "\n",
       "[10080 rows x 3 columns]"
      ]
     },
     "execution_count": 12,
     "metadata": {},
     "output_type": "execute_result"
    }
   ],
   "source": [
    "data"
   ]
  },
  {
   "cell_type": "markdown",
   "metadata": {},
   "source": [
    "## Manual creation of a BaseRaw object"
   ]
  },
  {
   "cell_type": "code",
   "execution_count": 14,
   "metadata": {
    "ExecuteTime": {
     "end_time": "2023-01-30T15:46:22.410078Z",
     "start_time": "2023-01-30T15:46:22.407864Z"
    }
   },
   "outputs": [],
   "source": [
    "from circStudio.io import BaseRaw"
   ]
  },
  {
   "cell_type": "markdown",
   "metadata": {},
   "source": [
    "help(BaseRaw)"
   ]
  },
  {
   "cell_type": "markdown",
   "metadata": {},
   "source": [
    "### Set activity and light data (if available)"
   ]
  },
  {
   "cell_type": "code",
   "execution_count": 15,
   "metadata": {
    "ExecuteTime": {
     "end_time": "2023-01-30T15:46:22.414671Z",
     "start_time": "2023-01-30T15:46:22.411146Z"
    }
   },
   "outputs": [],
   "source": [
    "raw = BaseRaw(\n",
    "    name=\"myName\", \n",
    "    uuid='DeviceId', \n",
    "    format='Pandas', \n",
    "    axial_mode=None,\n",
    "    start_time=data.index[0],\n",
    "    period=(data.index[-1]-data.index[0]),\n",
    "    frequency=data.index.freq,\n",
    "    data=data['Activity'],\n",
    "    light=data['Light']\n",
    ")"
   ]
  },
  {
   "cell_type": "code",
   "execution_count": 16,
   "metadata": {
    "ExecuteTime": {
     "end_time": "2023-01-30T15:46:22.421343Z",
     "start_time": "2023-01-30T15:46:22.416023Z"
    }
   },
   "outputs": [
    {
     "data": {
      "text/plain": [
       "2020-01-01 00:00:00    12.348719\n",
       "2020-01-01 00:01:00     9.509186\n",
       "2020-01-01 00:02:00    11.565412\n",
       "2020-01-01 00:03:00    10.747845\n",
       "2020-01-01 00:04:00    10.947222\n",
       "                         ...    \n",
       "2020-01-07 23:55:00    10.641293\n",
       "2020-01-07 23:56:00     9.070925\n",
       "2020-01-07 23:57:00    10.157441\n",
       "2020-01-07 23:58:00     9.503215\n",
       "2020-01-07 23:59:00     9.744828\n",
       "Freq: 60s, Name: Activity, Length: 10080, dtype: float64"
      ]
     },
     "execution_count": 16,
     "metadata": {},
     "output_type": "execute_result"
    }
   ],
   "source": [
    "raw.data"
   ]
  },
  {
   "cell_type": "markdown",
   "metadata": {},
   "source": [
    "### Set up a mask"
   ]
  },
  {
   "cell_type": "markdown",
   "metadata": {},
   "source": [
    "Most devices that have a wear sensor return this information as a binary time series with \"1\" when the device is most likely not worn and \"0\" otherwise.\n",
    "In pyActigraphy, this information can be used to create a mask and thus invalidate the corresponding data points (set to \"0\" most probably). However, the mask, the value \"1\" correspond to \"no masking\". So, depending on your \"non-wear\" data, be careful to transform them appropriately:"
   ]
  },
  {
   "cell_type": "code",
   "execution_count": 17,
   "metadata": {
    "ExecuteTime": {
     "end_time": "2023-01-30T15:46:22.425960Z",
     "start_time": "2023-01-30T15:46:22.422846Z"
    }
   },
   "outputs": [],
   "source": [
    "# Here, I assume that 0: the device is worn, 1: device not worn. \n",
    "# As mentioned aboce, for the mask, 1: no masking. (NB: it is a convolution: data*mask)\n",
    "raw.mask = np.abs(data['Non-wear']-1)"
   ]
  },
  {
   "cell_type": "markdown",
   "metadata": {},
   "source": [
    "## Tests"
   ]
  },
  {
   "cell_type": "code",
   "execution_count": 18,
   "metadata": {
    "ExecuteTime": {
     "end_time": "2023-01-30T15:46:22.430376Z",
     "start_time": "2023-01-30T15:46:22.427707Z"
    }
   },
   "outputs": [
    {
     "data": {
      "text/plain": [
       "<604800 * Seconds>"
      ]
     },
     "execution_count": 18,
     "metadata": {},
     "output_type": "execute_result"
    }
   ],
   "source": [
    "raw.duration()"
   ]
  },
  {
   "cell_type": "code",
   "execution_count": 19,
   "metadata": {
    "ExecuteTime": {
     "end_time": "2023-01-30T15:46:22.435614Z",
     "start_time": "2023-01-30T15:46:22.431691Z"
    }
   },
   "outputs": [
    {
     "data": {
      "text/plain": [
       "10080"
      ]
     },
     "execution_count": 19,
     "metadata": {},
     "output_type": "execute_result"
    }
   ],
   "source": [
    "raw.length()"
   ]
  },
  {
   "cell_type": "code",
   "execution_count": 20,
   "metadata": {
    "ExecuteTime": {
     "end_time": "2023-01-30T15:46:22.464546Z",
     "start_time": "2023-01-30T15:46:22.436610Z"
    }
   },
   "outputs": [
    {
     "data": {
      "text/plain": [
       "14262.576447031717"
      ]
     },
     "execution_count": 20,
     "metadata": {},
     "output_type": "execute_result"
    }
   ],
   "source": [
    "raw.ADAT(binarize=False)"
   ]
  },
  {
   "cell_type": "code",
   "execution_count": 21,
   "metadata": {
    "ExecuteTime": {
     "end_time": "2023-01-30T15:46:22.471681Z",
     "start_time": "2023-01-30T15:46:22.465690Z"
    }
   },
   "outputs": [
    {
     "data": {
      "text/plain": [
       "1.1156970219746885"
      ]
     },
     "execution_count": 21,
     "metadata": {},
     "output_type": "execute_result"
    }
   ],
   "source": [
    "raw.IV(binarize=False)"
   ]
  },
  {
   "cell_type": "code",
   "execution_count": 22,
   "metadata": {
    "ExecuteTime": {
     "end_time": "2023-01-30T15:46:22.475334Z",
     "start_time": "2023-01-30T15:46:22.472677Z"
    }
   },
   "outputs": [],
   "source": [
    "# If you want to mask the data\n",
    "raw.mask_inactivity = True"
   ]
  },
  {
   "cell_type": "code",
   "execution_count": 23,
   "metadata": {
    "ExecuteTime": {
     "end_time": "2023-01-30T15:46:22.489791Z",
     "start_time": "2023-01-30T15:46:22.477058Z"
    }
   },
   "outputs": [
    {
     "data": {
      "text/plain": [
       "1.9207928861776853"
      ]
     },
     "execution_count": 23,
     "metadata": {},
     "output_type": "execute_result"
    }
   ],
   "source": [
    "# For a gaussian noise, IV should be close to 2.\n",
    "raw.IV(binarize=False)"
   ]
  },
  {
   "cell_type": "markdown",
   "metadata": {},
   "source": [
    "The masking seems to work!"
   ]
  },
  {
   "cell_type": "markdown",
   "metadata": {},
   "source": [
    "Et voilà!"
   ]
  }
 ],
 "metadata": {
  "kernelspec": {
   "display_name": "Python 3 (ipykernel)",
   "language": "python",
   "name": "python3"
  },
  "language_info": {
   "codemirror_mode": {
    "name": "ipython",
    "version": 3
   },
   "file_extension": ".py",
   "mimetype": "text/x-python",
   "name": "python",
   "nbconvert_exporter": "python",
   "pygments_lexer": "ipython3",
   "version": "3.12.9"
  }
 },
 "nbformat": 4,
 "nbformat_minor": 4
}
