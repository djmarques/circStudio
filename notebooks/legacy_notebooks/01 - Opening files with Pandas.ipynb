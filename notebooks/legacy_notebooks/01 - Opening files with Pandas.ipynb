{
 "cells": [
  {
   "cell_type": "markdown",
   "metadata": {},
   "source": [
    "# How to read data from DataFrames with pyActigraphy"
   ]
  },
  {
   "cell_type": "markdown",
   "metadata": {},
   "source": [
    "**Original Author:** Grégory Hammad\n",
    "\n",
    "**Note:** *This is a legacy tutorial originally developed for `pyActigraphy`. It remains useful for reference, but will be updated following the release of the first milestone version of the `circStudio` package.*\n",
    "\n",
    "**Observation:** *Once the first milestone version of the `circStudio` package is released, this will become the default method for opening files. Input files must be pre-formatted to ensure they can be properly cleaned and analyzed.*"
   ]
  },
  {
   "cell_type": "markdown",
   "metadata": {},
   "source": [
    "## Imported packages and input data"
   ]
  },
  {
   "cell_type": "markdown",
   "metadata": {},
   "source": [
    "The usual suspects:"
   ]
  },
  {
   "cell_type": "code",
   "execution_count": 1,
   "metadata": {
    "ExecuteTime": {
     "end_time": "2025-06-02T16:46:40.423066Z",
     "start_time": "2025-06-02T16:46:40.420037Z"
    }
   },
   "outputs": [],
   "source": [
    "import numpy as np"
   ]
  },
  {
   "cell_type": "code",
   "execution_count": 2,
   "metadata": {},
   "outputs": [],
   "source": [
    "import os"
   ]
  },
  {
   "cell_type": "code",
   "execution_count": 3,
   "metadata": {
    "ExecuteTime": {
     "end_time": "2023-01-30T15:46:21.029765Z",
     "start_time": "2023-01-30T15:46:20.798230Z"
    }
   },
   "outputs": [],
   "source": [
    "import pandas as pd"
   ]
  },
  {
   "cell_type": "code",
   "execution_count": 4,
   "metadata": {
    "ExecuteTime": {
     "end_time": "2023-01-30T15:46:22.362016Z",
     "start_time": "2023-01-30T15:46:21.031406Z"
    }
   },
   "outputs": [],
   "source": [
    "import circStudio"
   ]
  },
  {
   "cell_type": "markdown",
   "metadata": {},
   "source": [
    "In this example, let's generate some input data:"
   ]
  },
  {
   "cell_type": "markdown",
   "metadata": {},
   "source": [
    "NB: if you already have your data under a pandas.DataFrame format, jump directly to the next section."
   ]
  },
  {
   "cell_type": "code",
   "execution_count": 24,
   "metadata": {
    "ExecuteTime": {
     "end_time": "2023-01-30T15:46:22.365103Z",
     "start_time": "2023-01-30T15:46:22.363452Z"
    }
   },
   "outputs": [],
   "source": [
    "N = 1440*7 # 7 days of acquisition at a frequency of 60s."
   ]
  },
  {
   "cell_type": "code",
   "execution_count": 25,
   "metadata": {
    "ExecuteTime": {
     "end_time": "2023-01-30T15:46:22.370183Z",
     "start_time": "2023-01-30T15:46:22.366077Z"
    }
   },
   "outputs": [],
   "source": [
    "activity = np.random.normal(10,1,N)\n",
    "light = np.random.normal(100,10,N)"
   ]
  },
  {
   "cell_type": "code",
   "execution_count": 26,
   "metadata": {
    "ExecuteTime": {
     "end_time": "2023-01-30T15:46:22.373357Z",
     "start_time": "2023-01-30T15:46:22.371173Z"
    }
   },
   "outputs": [],
   "source": [
    "non_wear = np.empty(N)"
   ]
  },
  {
   "cell_type": "code",
   "execution_count": 27,
   "metadata": {
    "ExecuteTime": {
     "end_time": "2023-01-30T15:46:22.376814Z",
     "start_time": "2023-01-30T15:46:22.374774Z"
    }
   },
   "outputs": [],
   "source": [
    "# Set up a segment of  spurious inactivity\n",
    "activity[2060:2160] = 0.0\n",
    "non_wear[2060:2160] = 1.0"
   ]
  },
  {
   "cell_type": "code",
   "execution_count": 28,
   "metadata": {
    "ExecuteTime": {
     "end_time": "2023-01-30T15:46:22.382434Z",
     "start_time": "2023-01-30T15:46:22.380545Z"
    }
   },
   "outputs": [],
   "source": [
    "d = {'Activity': activity, 'Light': light, 'Non-wear': non_wear}"
   ]
  },
  {
   "cell_type": "code",
   "execution_count": 29,
   "metadata": {
    "ExecuteTime": {
     "end_time": "2023-01-30T15:46:22.387956Z",
     "start_time": "2023-01-30T15:46:22.384391Z"
    }
   },
   "outputs": [],
   "source": [
    "index = pd.date_range(start='01-01-2020',freq='60s',periods=N)"
   ]
  },
  {
   "cell_type": "code",
   "execution_count": 30,
   "metadata": {
    "ExecuteTime": {
     "end_time": "2023-01-30T15:46:22.393274Z",
     "start_time": "2023-01-30T15:46:22.389782Z"
    }
   },
   "outputs": [],
   "source": [
    "data = pd.DataFrame(index=index,data=d)"
   ]
  },
  {
   "cell_type": "code",
   "execution_count": 31,
   "metadata": {
    "ExecuteTime": {
     "end_time": "2023-01-30T15:46:22.406545Z",
     "start_time": "2023-01-30T15:46:22.394383Z"
    }
   },
   "outputs": [
    {
     "data": {
      "text/html": [
       "<div>\n",
       "<style scoped>\n",
       "    .dataframe tbody tr th:only-of-type {\n",
       "        vertical-align: middle;\n",
       "    }\n",
       "\n",
       "    .dataframe tbody tr th {\n",
       "        vertical-align: top;\n",
       "    }\n",
       "\n",
       "    .dataframe thead th {\n",
       "        text-align: right;\n",
       "    }\n",
       "</style>\n",
       "<table border=\"1\" class=\"dataframe\">\n",
       "  <thead>\n",
       "    <tr style=\"text-align: right;\">\n",
       "      <th></th>\n",
       "      <th>Activity</th>\n",
       "      <th>Light</th>\n",
       "      <th>Non-wear</th>\n",
       "    </tr>\n",
       "  </thead>\n",
       "  <tbody>\n",
       "    <tr>\n",
       "      <th>2020-01-01 00:00:00</th>\n",
       "      <td>10.812449</td>\n",
       "      <td>109.286549</td>\n",
       "      <td>1.408156e-311</td>\n",
       "    </tr>\n",
       "    <tr>\n",
       "      <th>2020-01-01 00:01:00</th>\n",
       "      <td>9.574570</td>\n",
       "      <td>98.377043</td>\n",
       "      <td>1.408158e-311</td>\n",
       "    </tr>\n",
       "    <tr>\n",
       "      <th>2020-01-01 00:02:00</th>\n",
       "      <td>9.116109</td>\n",
       "      <td>99.835302</td>\n",
       "      <td>0.000000e+00</td>\n",
       "    </tr>\n",
       "    <tr>\n",
       "      <th>2020-01-01 00:03:00</th>\n",
       "      <td>9.244513</td>\n",
       "      <td>92.352330</td>\n",
       "      <td>0.000000e+00</td>\n",
       "    </tr>\n",
       "    <tr>\n",
       "      <th>2020-01-01 00:04:00</th>\n",
       "      <td>10.584692</td>\n",
       "      <td>96.152580</td>\n",
       "      <td>0.000000e+00</td>\n",
       "    </tr>\n",
       "    <tr>\n",
       "      <th>...</th>\n",
       "      <td>...</td>\n",
       "      <td>...</td>\n",
       "      <td>...</td>\n",
       "    </tr>\n",
       "    <tr>\n",
       "      <th>2020-01-07 23:55:00</th>\n",
       "      <td>10.170783</td>\n",
       "      <td>113.681926</td>\n",
       "      <td>0.000000e+00</td>\n",
       "    </tr>\n",
       "    <tr>\n",
       "      <th>2020-01-07 23:56:00</th>\n",
       "      <td>7.881578</td>\n",
       "      <td>104.624959</td>\n",
       "      <td>0.000000e+00</td>\n",
       "    </tr>\n",
       "    <tr>\n",
       "      <th>2020-01-07 23:57:00</th>\n",
       "      <td>11.432021</td>\n",
       "      <td>96.652484</td>\n",
       "      <td>0.000000e+00</td>\n",
       "    </tr>\n",
       "    <tr>\n",
       "      <th>2020-01-07 23:58:00</th>\n",
       "      <td>10.557881</td>\n",
       "      <td>103.235590</td>\n",
       "      <td>0.000000e+00</td>\n",
       "    </tr>\n",
       "    <tr>\n",
       "      <th>2020-01-07 23:59:00</th>\n",
       "      <td>9.992240</td>\n",
       "      <td>88.923713</td>\n",
       "      <td>0.000000e+00</td>\n",
       "    </tr>\n",
       "  </tbody>\n",
       "</table>\n",
       "<p>10080 rows × 3 columns</p>\n",
       "</div>"
      ],
      "text/plain": [
       "                      Activity       Light       Non-wear\n",
       "2020-01-01 00:00:00  10.812449  109.286549  1.408156e-311\n",
       "2020-01-01 00:01:00   9.574570   98.377043  1.408158e-311\n",
       "2020-01-01 00:02:00   9.116109   99.835302   0.000000e+00\n",
       "2020-01-01 00:03:00   9.244513   92.352330   0.000000e+00\n",
       "2020-01-01 00:04:00  10.584692   96.152580   0.000000e+00\n",
       "...                        ...         ...            ...\n",
       "2020-01-07 23:55:00  10.170783  113.681926   0.000000e+00\n",
       "2020-01-07 23:56:00   7.881578  104.624959   0.000000e+00\n",
       "2020-01-07 23:57:00  11.432021   96.652484   0.000000e+00\n",
       "2020-01-07 23:58:00  10.557881  103.235590   0.000000e+00\n",
       "2020-01-07 23:59:00   9.992240   88.923713   0.000000e+00\n",
       "\n",
       "[10080 rows x 3 columns]"
      ]
     },
     "execution_count": 31,
     "metadata": {},
     "output_type": "execute_result"
    }
   ],
   "source": [
    "data"
   ]
  },
  {
   "cell_type": "markdown",
   "metadata": {
    "jp-MarkdownHeadingCollapsed": true
   },
   "source": [
    "## Manual creation of a BaseRaw object"
   ]
  },
  {
   "cell_type": "code",
   "execution_count": 5,
   "metadata": {
    "ExecuteTime": {
     "end_time": "2023-01-30T15:46:22.410078Z",
     "start_time": "2023-01-30T15:46:22.407864Z"
    }
   },
   "outputs": [],
   "source": [
    "from circStudio.io import BaseRaw"
   ]
  },
  {
   "cell_type": "markdown",
   "metadata": {
    "jp-MarkdownHeadingCollapsed": true
   },
   "source": [
    "### Set activity and light data (if available)"
   ]
  },
  {
   "cell_type": "code",
   "execution_count": 33,
   "metadata": {
    "ExecuteTime": {
     "end_time": "2023-01-30T15:46:22.414671Z",
     "start_time": "2023-01-30T15:46:22.411146Z"
    }
   },
   "outputs": [],
   "source": [
    "raw = BaseRaw(\n",
    "    name=\"myName\", \n",
    "    uuid='DeviceId', \n",
    "    format='Pandas', \n",
    "    axial_mode=None,\n",
    "    start_time=data.index[0],\n",
    "    period=(data.index[-1]-data.index[0]),\n",
    "    frequency=data.index.freq,\n",
    "    data=data['Activity'],\n",
    "    light=data['Light']\n",
    ")"
   ]
  },
  {
   "cell_type": "code",
   "execution_count": 34,
   "metadata": {
    "ExecuteTime": {
     "end_time": "2023-01-30T15:46:22.421343Z",
     "start_time": "2023-01-30T15:46:22.416023Z"
    }
   },
   "outputs": [
    {
     "data": {
      "text/plain": [
       "2020-01-01 00:00:00    10.812449\n",
       "2020-01-01 00:01:00     9.574570\n",
       "2020-01-01 00:02:00     9.116109\n",
       "2020-01-01 00:03:00     9.244513\n",
       "2020-01-01 00:04:00    10.584692\n",
       "                         ...    \n",
       "2020-01-07 23:55:00    10.170783\n",
       "2020-01-07 23:56:00     7.881578\n",
       "2020-01-07 23:57:00    11.432021\n",
       "2020-01-07 23:58:00    10.557881\n",
       "2020-01-07 23:59:00     9.992240\n",
       "Freq: 60s, Name: Activity, Length: 10080, dtype: float64"
      ]
     },
     "execution_count": 34,
     "metadata": {},
     "output_type": "execute_result"
    }
   ],
   "source": [
    "raw.data"
   ]
  },
  {
   "cell_type": "markdown",
   "metadata": {},
   "source": [
    "### Opening a file not natively supported by pyActigraphy"
   ]
  },
  {
   "cell_type": "code",
   "execution_count": 6,
   "metadata": {},
   "outputs": [],
   "source": [
    "# Open the tsv (tab separated file) file\n",
    "df = pd.read_csv(os.path.join('esteban.txt'), sep='\\t')\n",
    "\n",
    "# Create a datatime column, containing timestamps, and drop the individual 'date' and 'time' columns\n",
    "df['datetime'] = pd.to_datetime(df['date'] + ' ' + df['time'], format='%d/%m/%y %H:%M:%S')\n",
    "df = df.drop(['date', 'time'], axis=1)\n",
    "\n",
    "# Set the datetime column as an index\n",
    "df = df.set_index('datetime')\n",
    "\n",
    "# Set the frequency (in this case, 30 seconds)\n",
    "df.index.freq = '30s'"
   ]
  },
  {
   "cell_type": "code",
   "execution_count": 7,
   "metadata": {
    "ExecuteTime": {
     "end_time": "2023-01-30T15:46:22.414671Z",
     "start_time": "2023-01-30T15:46:22.411146Z"
    }
   },
   "outputs": [],
   "source": [
    "# Create a new BaseRaw object\n",
    "raw = BaseRaw(\n",
    "    name=\"estevan\", \n",
    "    uuid='kw3', \n",
    "    format='Pandas', \n",
    "    axial_mode=None,\n",
    "    start_time=df.index[0],\n",
    "    period=(df.index[-1]-df.index[0]),\n",
    "    #frequency=pd.Timedelta(30,'s'),\n",
    "    frequency = df.index.freq,\n",
    "    data=df['t_mov'], # Assuming that activity is stored here\n",
    "    light=df['visible_light'] # Working with visible_light\n",
    ")"
   ]
  },
  {
   "cell_type": "markdown",
   "metadata": {
    "jp-MarkdownHeadingCollapsed": true
   },
   "source": [
    "### Set up a mask"
   ]
  },
  {
   "cell_type": "markdown",
   "metadata": {},
   "source": [
    "Most devices that have a wear sensor return this information as a binary time series with \"1\" when the device is most likely not worn and \"0\" otherwise.\n",
    "In pyActigraphy, this information can be used to create a mask and thus invalidate the corresponding data points (set to \"0\" most probably). However, the mask, the value \"1\" correspond to \"no masking\". So, depending on your \"non-wear\" data, be careful to transform them appropriately:"
   ]
  },
  {
   "cell_type": "code",
   "execution_count": 17,
   "metadata": {
    "ExecuteTime": {
     "end_time": "2023-01-30T15:46:22.425960Z",
     "start_time": "2023-01-30T15:46:22.422846Z"
    }
   },
   "outputs": [],
   "source": [
    "# Here, I assume that 0: the device is worn, 1: device not worn. \n",
    "# As mentioned aboce, for the mask, 1: no masking. (NB: it is a convolution: data*mask)\n",
    "raw.mask = np.abs(data['Non-wear']-1)"
   ]
  },
  {
   "cell_type": "markdown",
   "metadata": {},
   "source": [
    "## Tests"
   ]
  },
  {
   "cell_type": "code",
   "execution_count": 8,
   "metadata": {
    "ExecuteTime": {
     "end_time": "2023-01-30T15:46:22.430376Z",
     "start_time": "2023-01-30T15:46:22.427707Z"
    }
   },
   "outputs": [
    {
     "data": {
      "text/plain": [
       "<866190 * Seconds>"
      ]
     },
     "execution_count": 8,
     "metadata": {},
     "output_type": "execute_result"
    }
   ],
   "source": [
    "raw.duration()"
   ]
  },
  {
   "cell_type": "code",
   "execution_count": 9,
   "metadata": {
    "ExecuteTime": {
     "end_time": "2023-01-30T15:46:22.435614Z",
     "start_time": "2023-01-30T15:46:22.431691Z"
    }
   },
   "outputs": [
    {
     "data": {
      "text/plain": [
       "28873"
      ]
     },
     "execution_count": 9,
     "metadata": {},
     "output_type": "execute_result"
    }
   ],
   "source": [
    "raw.length()"
   ]
  },
  {
   "cell_type": "code",
   "execution_count": 10,
   "metadata": {
    "ExecuteTime": {
     "end_time": "2023-01-30T15:46:22.464546Z",
     "start_time": "2023-01-30T15:46:22.436610Z"
    }
   },
   "outputs": [
    {
     "data": {
      "text/plain": [
       "259046.46074933468"
      ]
     },
     "execution_count": 10,
     "metadata": {},
     "output_type": "execute_result"
    }
   ],
   "source": [
    "raw.ADAT(binarize=False)"
   ]
  },
  {
   "cell_type": "code",
   "execution_count": 11,
   "metadata": {
    "ExecuteTime": {
     "end_time": "2023-01-30T15:46:22.471681Z",
     "start_time": "2023-01-30T15:46:22.465690Z"
    }
   },
   "outputs": [
    {
     "data": {
      "text/plain": [
       "0.5778833611564067"
      ]
     },
     "execution_count": 11,
     "metadata": {},
     "output_type": "execute_result"
    }
   ],
   "source": [
    "raw.IV(binarize=False)"
   ]
  },
  {
   "cell_type": "code",
   "execution_count": 12,
   "metadata": {
    "ExecuteTime": {
     "end_time": "2023-01-30T15:46:22.475334Z",
     "start_time": "2023-01-30T15:46:22.472677Z"
    }
   },
   "outputs": [],
   "source": [
    "# If you want to mask the data\n",
    "raw.mask_inactivity = True"
   ]
  },
  {
   "cell_type": "code",
   "execution_count": 32,
   "metadata": {
    "ExecuteTime": {
     "end_time": "2023-01-30T15:46:22.489791Z",
     "start_time": "2023-01-30T15:46:22.477058Z"
    }
   },
   "outputs": [
    {
     "data": {
      "text/plain": [
       "0.5778833611564067"
      ]
     },
     "execution_count": 32,
     "metadata": {},
     "output_type": "execute_result"
    }
   ],
   "source": [
    "# For a gaussian noise, IV should be close to 2.\n",
    "raw.IV(binarize=False)"
   ]
  },
  {
   "cell_type": "markdown",
   "metadata": {},
   "source": [
    "The masking seems to work!"
   ]
  },
  {
   "cell_type": "markdown",
   "metadata": {},
   "source": [
    "Et voilà!"
   ]
  }
 ],
 "metadata": {
  "kernelspec": {
   "display_name": "Python 3 (ipykernel)",
   "language": "python",
   "name": "python3"
  },
  "language_info": {
   "codemirror_mode": {
    "name": "ipython",
    "version": 3
   },
   "file_extension": ".py",
   "mimetype": "text/x-python",
   "name": "python",
   "nbconvert_exporter": "python",
   "pygments_lexer": "ipython3",
   "version": "3.12.9"
  }
 },
 "nbformat": 4,
 "nbformat_minor": 4
}
