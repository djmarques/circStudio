{
 "cells": [
  {
   "cell_type": "markdown",
   "metadata": {},
   "source": [
    "# How to read data from DataFrames with pyActigraphy"
   ]
  },
  {
   "cell_type": "markdown",
   "metadata": {},
   "source": [
    "**Original Author:** Grégory Hammad\n",
    "\n",
    "**Note:** *This is a legacy tutorial originally developed for `pyActigraphy`. It remains useful for reference, but will be updated following the release of the first milestone version of the `circStudio` package.*\n",
    "\n",
    "**Observation:** *Once the first milestone version of the `circStudio` package is released, this will become the default method for opening files. Input files must be pre-formatted to ensure they can be properly cleaned and analyzed.*"
   ]
  },
  {
   "cell_type": "markdown",
   "metadata": {},
   "source": [
    "## Imported packages and input data"
   ]
  },
  {
   "cell_type": "markdown",
   "metadata": {},
   "source": [
    "The usual suspects:"
   ]
  },
  {
   "cell_type": "code",
   "execution_count": 1,
   "metadata": {
    "ExecuteTime": {
     "end_time": "2025-06-11T11:28:25.539767Z",
     "start_time": "2025-06-11T11:28:25.392325Z"
    }
   },
   "outputs": [],
   "source": [
    "import numpy as np"
   ]
  },
  {
   "cell_type": "code",
   "execution_count": 2,
   "metadata": {},
   "outputs": [],
   "source": [
    "import os"
   ]
  },
  {
   "cell_type": "code",
   "execution_count": 3,
   "metadata": {
    "ExecuteTime": {
     "end_time": "2023-01-30T15:46:21.029765Z",
     "start_time": "2023-01-30T15:46:20.798230Z"
    }
   },
   "outputs": [],
   "source": [
    "import pandas as pd"
   ]
  },
  {
   "cell_type": "code",
   "execution_count": 4,
   "metadata": {
    "ExecuteTime": {
     "end_time": "2023-01-30T15:46:22.362016Z",
     "start_time": "2023-01-30T15:46:21.031406Z"
    }
   },
   "outputs": [],
   "source": [
    "import circStudio"
   ]
  },
  {
   "cell_type": "markdown",
   "metadata": {},
   "source": [
    "In this example, let's generate some input data:"
   ]
  },
  {
   "cell_type": "markdown",
   "metadata": {},
   "source": [
    "NB: if you already have your data under a pandas.DataFrame format, jump directly to the next section."
   ]
  },
  {
   "cell_type": "code",
   "execution_count": 5,
   "metadata": {
    "ExecuteTime": {
     "end_time": "2023-01-30T15:46:22.365103Z",
     "start_time": "2023-01-30T15:46:22.363452Z"
    }
   },
   "outputs": [],
   "source": [
    "N = 1440*7 # 7 days of acquisition at a frequency of 60s."
   ]
  },
  {
   "cell_type": "code",
   "execution_count": 6,
   "metadata": {
    "ExecuteTime": {
     "end_time": "2023-01-30T15:46:22.370183Z",
     "start_time": "2023-01-30T15:46:22.366077Z"
    }
   },
   "outputs": [],
   "source": [
    "activity = np.random.normal(10,1,N)\n",
    "light = np.random.normal(100,10,N)"
   ]
  },
  {
   "cell_type": "code",
   "execution_count": 7,
   "metadata": {
    "ExecuteTime": {
     "end_time": "2023-01-30T15:46:22.373357Z",
     "start_time": "2023-01-30T15:46:22.371173Z"
    }
   },
   "outputs": [],
   "source": [
    "non_wear = np.empty(N)"
   ]
  },
  {
   "cell_type": "code",
   "execution_count": 8,
   "metadata": {
    "ExecuteTime": {
     "end_time": "2023-01-30T15:46:22.376814Z",
     "start_time": "2023-01-30T15:46:22.374774Z"
    }
   },
   "outputs": [],
   "source": [
    "# Set up a segment of  spurious inactivity\n",
    "activity[2060:2160] = 0.0\n",
    "non_wear[2060:2160] = 1.0"
   ]
  },
  {
   "cell_type": "code",
   "execution_count": 9,
   "metadata": {
    "ExecuteTime": {
     "end_time": "2023-01-30T15:46:22.382434Z",
     "start_time": "2023-01-30T15:46:22.380545Z"
    }
   },
   "outputs": [],
   "source": [
    "d = {'Activity': activity, 'Light': light, 'Non-wear': non_wear}"
   ]
  },
  {
   "cell_type": "code",
   "execution_count": 10,
   "metadata": {
    "ExecuteTime": {
     "end_time": "2023-01-30T15:46:22.387956Z",
     "start_time": "2023-01-30T15:46:22.384391Z"
    }
   },
   "outputs": [],
   "source": [
    "index = pd.date_range(start='01-01-2020',freq='60s',periods=N)"
   ]
  },
  {
   "cell_type": "code",
   "execution_count": 11,
   "metadata": {
    "ExecuteTime": {
     "end_time": "2023-01-30T15:46:22.393274Z",
     "start_time": "2023-01-30T15:46:22.389782Z"
    }
   },
   "outputs": [],
   "source": [
    "data = pd.DataFrame(index=index,data=d)"
   ]
  },
  {
   "cell_type": "code",
   "execution_count": 12,
   "metadata": {
    "ExecuteTime": {
     "end_time": "2023-01-30T15:46:22.406545Z",
     "start_time": "2023-01-30T15:46:22.394383Z"
    }
   },
   "outputs": [
    {
     "data": {
      "text/html": [
       "<div>\n",
       "<style scoped>\n",
       "    .dataframe tbody tr th:only-of-type {\n",
       "        vertical-align: middle;\n",
       "    }\n",
       "\n",
       "    .dataframe tbody tr th {\n",
       "        vertical-align: top;\n",
       "    }\n",
       "\n",
       "    .dataframe thead th {\n",
       "        text-align: right;\n",
       "    }\n",
       "</style>\n",
       "<table border=\"1\" class=\"dataframe\">\n",
       "  <thead>\n",
       "    <tr style=\"text-align: right;\">\n",
       "      <th></th>\n",
       "      <th>Activity</th>\n",
       "      <th>Light</th>\n",
       "      <th>Non-wear</th>\n",
       "    </tr>\n",
       "  </thead>\n",
       "  <tbody>\n",
       "    <tr>\n",
       "      <th>2020-01-01 00:00:00</th>\n",
       "      <td>11.330084</td>\n",
       "      <td>110.264988</td>\n",
       "      <td>8.517301e-312</td>\n",
       "    </tr>\n",
       "    <tr>\n",
       "      <th>2020-01-01 00:01:00</th>\n",
       "      <td>9.930034</td>\n",
       "      <td>95.676325</td>\n",
       "      <td>8.512474e-312</td>\n",
       "    </tr>\n",
       "    <tr>\n",
       "      <th>2020-01-01 00:02:00</th>\n",
       "      <td>8.159806</td>\n",
       "      <td>81.785469</td>\n",
       "      <td>0.000000e+00</td>\n",
       "    </tr>\n",
       "    <tr>\n",
       "      <th>2020-01-01 00:03:00</th>\n",
       "      <td>10.627438</td>\n",
       "      <td>94.571044</td>\n",
       "      <td>0.000000e+00</td>\n",
       "    </tr>\n",
       "    <tr>\n",
       "      <th>2020-01-01 00:04:00</th>\n",
       "      <td>11.026022</td>\n",
       "      <td>89.978322</td>\n",
       "      <td>0.000000e+00</td>\n",
       "    </tr>\n",
       "    <tr>\n",
       "      <th>...</th>\n",
       "      <td>...</td>\n",
       "      <td>...</td>\n",
       "      <td>...</td>\n",
       "    </tr>\n",
       "    <tr>\n",
       "      <th>2020-01-07 23:55:00</th>\n",
       "      <td>8.365821</td>\n",
       "      <td>98.970412</td>\n",
       "      <td>0.000000e+00</td>\n",
       "    </tr>\n",
       "    <tr>\n",
       "      <th>2020-01-07 23:56:00</th>\n",
       "      <td>11.611638</td>\n",
       "      <td>114.083911</td>\n",
       "      <td>0.000000e+00</td>\n",
       "    </tr>\n",
       "    <tr>\n",
       "      <th>2020-01-07 23:57:00</th>\n",
       "      <td>11.024646</td>\n",
       "      <td>107.674498</td>\n",
       "      <td>0.000000e+00</td>\n",
       "    </tr>\n",
       "    <tr>\n",
       "      <th>2020-01-07 23:58:00</th>\n",
       "      <td>10.507091</td>\n",
       "      <td>111.895947</td>\n",
       "      <td>0.000000e+00</td>\n",
       "    </tr>\n",
       "    <tr>\n",
       "      <th>2020-01-07 23:59:00</th>\n",
       "      <td>8.974501</td>\n",
       "      <td>99.870827</td>\n",
       "      <td>0.000000e+00</td>\n",
       "    </tr>\n",
       "  </tbody>\n",
       "</table>\n",
       "<p>10080 rows × 3 columns</p>\n",
       "</div>"
      ],
      "text/plain": [
       "                      Activity       Light       Non-wear\n",
       "2020-01-01 00:00:00  11.330084  110.264988  8.517301e-312\n",
       "2020-01-01 00:01:00   9.930034   95.676325  8.512474e-312\n",
       "2020-01-01 00:02:00   8.159806   81.785469   0.000000e+00\n",
       "2020-01-01 00:03:00  10.627438   94.571044   0.000000e+00\n",
       "2020-01-01 00:04:00  11.026022   89.978322   0.000000e+00\n",
       "...                        ...         ...            ...\n",
       "2020-01-07 23:55:00   8.365821   98.970412   0.000000e+00\n",
       "2020-01-07 23:56:00  11.611638  114.083911   0.000000e+00\n",
       "2020-01-07 23:57:00  11.024646  107.674498   0.000000e+00\n",
       "2020-01-07 23:58:00  10.507091  111.895947   0.000000e+00\n",
       "2020-01-07 23:59:00   8.974501   99.870827   0.000000e+00\n",
       "\n",
       "[10080 rows x 3 columns]"
      ]
     },
     "execution_count": 12,
     "metadata": {},
     "output_type": "execute_result"
    }
   ],
   "source": [
    "data"
   ]
  },
  {
   "cell_type": "markdown",
   "metadata": {},
   "source": [
    "## Manual creation of a BaseRaw object"
   ]
  },
  {
   "cell_type": "code",
   "execution_count": 13,
   "metadata": {
    "ExecuteTime": {
     "end_time": "2023-01-30T15:46:22.410078Z",
     "start_time": "2023-01-30T15:46:22.407864Z"
    }
   },
   "outputs": [],
   "source": "from circStudio.io import Raw"
  },
  {
   "cell_type": "markdown",
   "metadata": {},
   "source": [
    "### Set activity and light data (if available)"
   ]
  },
  {
   "cell_type": "code",
   "execution_count": 14,
   "metadata": {
    "ExecuteTime": {
     "end_time": "2023-01-30T15:46:22.414671Z",
     "start_time": "2023-01-30T15:46:22.411146Z"
    }
   },
   "outputs": [],
   "source": [
    "raw = Raw(\n",
    "    start_time=data.index[0],\n",
    "    period=(data.index[-1]-data.index[0]),\n",
    "    frequency=data.index.freq,\n",
    "    activity=data['Activity'],\n",
    "    light=data['Light']\n",
    ")"
   ]
  },
  {
   "cell_type": "code",
   "execution_count": 15,
   "metadata": {
    "ExecuteTime": {
     "end_time": "2023-01-30T15:46:22.421343Z",
     "start_time": "2023-01-30T15:46:22.416023Z"
    }
   },
   "outputs": [
    {
     "data": {
      "text/plain": [
       "2020-01-01 00:00:00     8.041281\n",
       "2020-01-01 00:01:00     8.491735\n",
       "2020-01-01 00:02:00    10.507292\n",
       "2020-01-01 00:03:00     9.716230\n",
       "2020-01-01 00:04:00    10.716860\n",
       "                         ...    \n",
       "2020-01-07 23:55:00     9.146460\n",
       "2020-01-07 23:56:00    10.896237\n",
       "2020-01-07 23:57:00    11.078052\n",
       "2020-01-07 23:58:00     9.443088\n",
       "2020-01-07 23:59:00    12.226668\n",
       "Freq: 60s, Name: Activity, Length: 10080, dtype: float64"
      ]
     },
     "execution_count": 15,
     "metadata": {},
     "output_type": "execute_result"
    }
   ],
   "source": [
    "raw.activity"
   ]
  },
  {
   "cell_type": "markdown",
   "metadata": {
    "jp-MarkdownHeadingCollapsed": true
   },
   "source": [
    "### Opening a file not natively supported by pyActigraphy"
   ]
  },
  {
   "cell_type": "code",
   "execution_count": 6,
   "metadata": {},
   "outputs": [],
   "source": [
    "# Open the tsv (tab separated file) file\n",
    "df = pd.read_csv(os.path.join('esteban.txt'), sep='\\t')\n",
    "\n",
    "# Create a datatime column, containing timestamps, and drop the individual 'date' and 'time' columns\n",
    "df['datetime'] = pd.to_datetime(df['date'] + ' ' + df['time'], format='%d/%m/%y %H:%M:%S')\n",
    "df = df.drop(['date', 'time'], axis=1)\n",
    "\n",
    "# Set the datetime column as an index\n",
    "df = df.set_index('datetime')\n",
    "\n",
    "# Set the frequency (in this case, 30 seconds)\n",
    "df.index.freq = '30s'"
   ]
  },
  {
   "cell_type": "code",
   "execution_count": 7,
   "metadata": {
    "ExecuteTime": {
     "end_time": "2023-01-30T15:46:22.414671Z",
     "start_time": "2023-01-30T15:46:22.411146Z"
    }
   },
   "outputs": [],
   "source": [
    "# Create a new BaseRaw object\n",
    "raw = Raw(\n",
    "    name=\"estevan\", \n",
    "    uuid='kw3',\n",
    "    axial_mode=None,\n",
    "    start_time=df.index[0],\n",
    "    period=(df.index[-1]-df.index[0]),\n",
    "    #frequency=pd.Timedelta(30,'s'),\n",
    "    frequency = df.index.freq,\n",
    "    data=df['t_mov'], # Assuming that activity is stored here\n",
    "    light=df['visible_light'] # Working with visible_light\n",
    ")"
   ]
  },
  {
   "cell_type": "markdown",
   "metadata": {},
   "source": [
    "### Set up a mask"
   ]
  },
  {
   "cell_type": "markdown",
   "metadata": {},
   "source": [
    "Most devices that have a wear sensor return this information as a binary time series with \"1\" when the device is most likely not worn and \"0\" otherwise.\n",
    "In pyActigraphy, this information can be used to create a mask and thus invalidate the corresponding data points (set to \"0\" most probably). However, the mask, the value \"1\" correspond to \"no masking\". So, depending on your \"non-wear\" data, be careful to transform them appropriately:"
   ]
  },
  {
   "cell_type": "code",
   "execution_count": 16,
   "metadata": {
    "ExecuteTime": {
     "end_time": "2023-01-30T15:46:22.425960Z",
     "start_time": "2023-01-30T15:46:22.422846Z"
    }
   },
   "outputs": [],
   "source": [
    "# Here, I assume that 0: the device is worn, 1: device not worn. \n",
    "# As mentioned aboce, for the mask, 1: no masking. (NB: it is a convolution: data*mask)\n",
    "raw.mask = np.abs(data['Non-wear']-1)"
   ]
  },
  {
   "cell_type": "markdown",
   "metadata": {},
   "source": [
    "## Tests"
   ]
  },
  {
   "cell_type": "code",
   "execution_count": 17,
   "metadata": {
    "ExecuteTime": {
     "end_time": "2023-01-30T15:46:22.430376Z",
     "start_time": "2023-01-30T15:46:22.427707Z"
    }
   },
   "outputs": [
    {
     "data": {
      "text/plain": [
       "<604800 * Seconds>"
      ]
     },
     "execution_count": 17,
     "metadata": {},
     "output_type": "execute_result"
    }
   ],
   "source": [
    "raw.duration()"
   ]
  },
  {
   "cell_type": "code",
   "execution_count": 18,
   "metadata": {
    "ExecuteTime": {
     "end_time": "2023-01-30T15:46:22.435614Z",
     "start_time": "2023-01-30T15:46:22.431691Z"
    }
   },
   "outputs": [
    {
     "data": {
      "text/plain": [
       "10080"
      ]
     },
     "execution_count": 18,
     "metadata": {},
     "output_type": "execute_result"
    }
   ],
   "source": [
    "raw.length()"
   ]
  },
  {
   "cell_type": "code",
   "execution_count": 19,
   "metadata": {
    "ExecuteTime": {
     "end_time": "2023-01-30T15:46:22.464546Z",
     "start_time": "2023-01-30T15:46:22.436610Z"
    }
   },
   "outputs": [
    {
     "ename": "AttributeError",
     "evalue": "'BaseRaw' object has no attribute 'data'",
     "output_type": "error",
     "traceback": [
      "\u001B[1;31m---------------------------------------------------------------------------\u001B[0m",
      "\u001B[1;31mAttributeError\u001B[0m                            Traceback (most recent call last)",
      "Cell \u001B[1;32mIn[19], line 1\u001B[0m\n\u001B[1;32m----> 1\u001B[0m \u001B[43mraw\u001B[49m\u001B[38;5;241;43m.\u001B[39;49m\u001B[43mADAT\u001B[49m\u001B[43m(\u001B[49m\u001B[43mbinarize\u001B[49m\u001B[38;5;241;43m=\u001B[39;49m\u001B[38;5;28;43;01mFalse\u001B[39;49;00m\u001B[43m)\u001B[49m\n",
      "File \u001B[1;32m~\\PycharmProjects\\circStudio\\circStudio\\metrics\\metrics.py:389\u001B[0m, in \u001B[0;36mMetricsMixin.ADAT\u001B[1;34m(self, binarize, threshold, rescale, exclude_ends)\u001B[0m\n\u001B[0;32m    387\u001B[0m     data \u001B[38;5;241m=\u001B[39m \u001B[38;5;28mself\u001B[39m\u001B[38;5;241m.\u001B[39mbinarized_data(threshold)\n\u001B[0;32m    388\u001B[0m \u001B[38;5;28;01melse\u001B[39;00m:\n\u001B[1;32m--> 389\u001B[0m     data \u001B[38;5;241m=\u001B[39m \u001B[38;5;28;43mself\u001B[39;49m\u001B[38;5;241;43m.\u001B[39;49m\u001B[43mdata\u001B[49m\n\u001B[0;32m    391\u001B[0m adat \u001B[38;5;241m=\u001B[39m _average_daily_total_activity(\n\u001B[0;32m    392\u001B[0m     data, rescale\u001B[38;5;241m=\u001B[39mrescale, exclude_ends\u001B[38;5;241m=\u001B[39mexclude_ends)\n\u001B[0;32m    394\u001B[0m \u001B[38;5;28;01mreturn\u001B[39;00m adat\n",
      "\u001B[1;31mAttributeError\u001B[0m: 'BaseRaw' object has no attribute 'data'"
     ]
    }
   ],
   "source": [
    "raw.ADAT(binarize=False)"
   ]
  },
  {
   "cell_type": "code",
   "execution_count": 20,
   "metadata": {
    "ExecuteTime": {
     "end_time": "2023-01-30T15:46:22.471681Z",
     "start_time": "2023-01-30T15:46:22.465690Z"
    }
   },
   "outputs": [
    {
     "ename": "AttributeError",
     "evalue": "'BaseRaw' object has no attribute 'resampled_data'",
     "output_type": "error",
     "traceback": [
      "\u001B[1;31m---------------------------------------------------------------------------\u001B[0m",
      "\u001B[1;31mAttributeError\u001B[0m                            Traceback (most recent call last)",
      "Cell \u001B[1;32mIn[20], line 1\u001B[0m\n\u001B[1;32m----> 1\u001B[0m \u001B[43mraw\u001B[49m\u001B[38;5;241;43m.\u001B[39;49m\u001B[43mIV\u001B[49m\u001B[43m(\u001B[49m\u001B[43mbinarize\u001B[49m\u001B[38;5;241;43m=\u001B[39;49m\u001B[38;5;28;43;01mFalse\u001B[39;49;00m\u001B[43m)\u001B[49m\n",
      "File \u001B[1;32m~\\PycharmProjects\\circStudio\\circStudio\\metrics\\metrics.py:1159\u001B[0m, in \u001B[0;36mMetricsMixin.IV\u001B[1;34m(self, freq, binarize, threshold)\u001B[0m\n\u001B[0;32m   1087\u001B[0m \u001B[38;5;28;01mdef\u001B[39;00m\u001B[38;5;250m \u001B[39m\u001B[38;5;21mIV\u001B[39m(\u001B[38;5;28mself\u001B[39m, freq\u001B[38;5;241m=\u001B[39m\u001B[38;5;124m'\u001B[39m\u001B[38;5;124m1h\u001B[39m\u001B[38;5;124m'\u001B[39m, binarize\u001B[38;5;241m=\u001B[39m\u001B[38;5;28;01mTrue\u001B[39;00m, threshold\u001B[38;5;241m=\u001B[39m\u001B[38;5;241m4\u001B[39m):\n\u001B[0;32m   1088\u001B[0m \u001B[38;5;250m    \u001B[39m\u001B[38;5;124mr\u001B[39m\u001B[38;5;124;03m\"\"\"Intradaily variability\u001B[39;00m\n\u001B[0;32m   1089\u001B[0m \n\u001B[0;32m   1090\u001B[0m \u001B[38;5;124;03m    The Intradaily Variability (IV) quantifies the variability of the\u001B[39;00m\n\u001B[1;32m   (...)\u001B[0m\n\u001B[0;32m   1157\u001B[0m \u001B[38;5;124;03m        0.7859579446494547\u001B[39;00m\n\u001B[0;32m   1158\u001B[0m \u001B[38;5;124;03m    \"\"\"\u001B[39;00m\n\u001B[1;32m-> 1159\u001B[0m     data \u001B[38;5;241m=\u001B[39m \u001B[38;5;28;43mself\u001B[39;49m\u001B[38;5;241;43m.\u001B[39;49m\u001B[43mresampled_data\u001B[49m(freq, binarize, threshold)\n\u001B[0;32m   1161\u001B[0m     \u001B[38;5;28;01mreturn\u001B[39;00m _intradaily_variability(data)\n",
      "\u001B[1;31mAttributeError\u001B[0m: 'BaseRaw' object has no attribute 'resampled_data'"
     ]
    }
   ],
   "source": [
    "raw.IV(binarize=False)"
   ]
  },
  {
   "cell_type": "code",
   "execution_count": 21,
   "metadata": {
    "ExecuteTime": {
     "end_time": "2023-01-30T15:46:22.475334Z",
     "start_time": "2023-01-30T15:46:22.472677Z"
    }
   },
   "outputs": [],
   "source": [
    "# If you want to mask the data\n",
    "raw._mask_inactivity = True"
   ]
  },
  {
   "cell_type": "code",
   "execution_count": 22,
   "metadata": {
    "ExecuteTime": {
     "end_time": "2023-01-30T15:46:22.489791Z",
     "start_time": "2023-01-30T15:46:22.477058Z"
    }
   },
   "outputs": [
    {
     "data": {
      "text/plain": [
       "1.9908499316790234"
      ]
     },
     "execution_count": 22,
     "metadata": {},
     "output_type": "execute_result"
    }
   ],
   "source": [
    "# For a gaussian noise, IV should be close to 2.\n",
    "raw.IV(binarize=False)"
   ]
  },
  {
   "cell_type": "markdown",
   "metadata": {},
   "source": [
    "The masking seems to work!"
   ]
  },
  {
   "cell_type": "markdown",
   "metadata": {},
   "source": [
    "Et voilà!"
   ]
  }
 ],
 "metadata": {
  "kernelspec": {
   "display_name": "Python 3 (ipykernel)",
   "language": "python",
   "name": "python3"
  },
  "language_info": {
   "codemirror_mode": {
    "name": "ipython",
    "version": 3
   },
   "file_extension": ".py",
   "mimetype": "text/x-python",
   "name": "python",
   "nbconvert_exporter": "python",
   "pygments_lexer": "ipython3",
   "version": "3.12.9"
  }
 },
 "nbformat": 4,
 "nbformat_minor": 4
}
